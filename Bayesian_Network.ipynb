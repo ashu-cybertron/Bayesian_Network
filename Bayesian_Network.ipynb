{
 "cells": [
  {
   "cell_type": "markdown",
   "metadata": {},
   "source": [
    "## pomegranate lib  "
   ]
  },
  {
   "cell_type": "markdown",
   "metadata": {},
   "source": [
    "### used to plot the graph"
   ]
  },
  {
   "cell_type": "code",
   "execution_count": 1,
   "metadata": {},
   "outputs": [],
   "source": [
    "from pomegranate import *"
   ]
  },
  {
   "cell_type": "markdown",
   "metadata": {},
   "source": [
    "## Discrete distribution\n",
    " "
   ]
  },
  {
   "cell_type": "markdown",
   "metadata": {},
   "source": [
    "### Used for dependent variables such as exercise,smoking.\n"
   ]
  },
  {
   "cell_type": "markdown",
   "metadata": {},
   "source": [
    "## conditional probability table "
   ]
  },
  {
   "cell_type": "markdown",
   "metadata": {},
   "source": [
    "###  Its given for var dependent on other variable such as BP,Colestrol,HeartAttack."
   ]
  },
  {
   "cell_type": "code",
   "execution_count": 2,
   "metadata": {},
   "outputs": [],
   "source": [
    "exercise=DiscreteDistribution({ 'True':0.4, 'False':0.6 })\n",
    "smokes = DiscreteDistribution({ 'True':0.15, 'False':0.85 })"
   ]
  },
  {
   "cell_type": "code",
   "execution_count": 3,
   "metadata": {},
   "outputs": [],
   "source": [
    "BP=ConditionalProbabilityTable(\n",
    "[[ 'True', 'True', 'True', 0.45],\n",
    "['True', 'True', 'False', 0.55],\n",
    "['True', 'False', 'True', 0.05],\n",
    "['True', 'False', 'False', 0.95],\n",
    "['False', 'True', 'True', 0.95],\n",
    "['False', 'True', 'False', 0.05],\n",
    "['False', 'False', 'True', 0.55],\n",
    "['False', 'False', 'False', 0.45 ]], [exercise,smokes])"
   ]
  },
  {
   "cell_type": "code",
   "execution_count": 5,
   "metadata": {},
   "outputs": [],
   "source": [
    "attack=ConditionalProbabilityTable(\n",
    "[['True','True',0.75],\n",
    "['True','False',0.25],\n",
    "['False','True',0.05],\n",
    "['False','False',0.95]],[BP])"
   ]
  },
  {
   "cell_type": "code",
   "execution_count": 6,
   "metadata": {},
   "outputs": [],
   "source": [
    "chol=ConditionalProbabilityTable(\n",
    "[['True','True',0.8],\n",
    "['True','False',0.2],\n",
    "['False','True',0.4],\n",
    "['False','False',0.6]],[smokes])"
   ]
  },
  {
   "cell_type": "markdown",
   "metadata": {},
   "source": [
    "## Creation of graph : As a set of nodes\n"
   ]
  },
  {
   "cell_type": "markdown",
   "metadata": {},
   "source": [
    "### number of nodes:5 (smoke,bp,attack,colestrol,exercise)"
   ]
  },
  {
   "cell_type": "code",
   "execution_count": 7,
   "metadata": {},
   "outputs": [],
   "source": [
    "s0=State(exercise, name='exercise')\n",
    "s1=State(smokes, name='smokes')\n",
    "s2=State(BP, name='BP')\n",
    "s3=State(chol, name='chol')\n",
    "s4=State(attack, name='attack')"
   ]
  },
  {
   "cell_type": "markdown",
   "metadata": {},
   "source": [
    "### Creating and adding network to the node using standard function"
   ]
  },
  {
   "cell_type": "code",
   "execution_count": 8,
   "metadata": {},
   "outputs": [],
   "source": [
    "network=BayesianNetwork(\"Heart Disease\")\n",
    "network.add_nodes(s0,s1,s2,s3,s4)"
   ]
  },
  {
   "cell_type": "code",
   "execution_count": 9,
   "metadata": {},
   "outputs": [],
   "source": [
    "network.add_edge(s0,s2)\n",
    "network.add_edge(s1,s2)\n",
    "network.add_edge(s1,s3)\n",
    "network.add_edge(s2,s4)"
   ]
  },
  {
   "cell_type": "markdown",
   "metadata": {},
   "source": [
    "### bake() function will finalize the topological "
   ]
  },
  {
   "cell_type": "code",
   "execution_count": 10,
   "metadata": {},
   "outputs": [],
   "source": [
    "network.bake()"
   ]
  },
  {
   "cell_type": "markdown",
   "metadata": {},
   "source": []
  },
  {
   "cell_type": "code",
   "execution_count": 11,
   "metadata": {},
   "outputs": [],
   "source": [
    "observations = { 'exercise' : 'False', 'smokes' : 'True' }\n",
    "beliefs = map( str, network.predict_proba( observations ) )"
   ]
  },
  {
   "cell_type": "code",
   "execution_count": 12,
   "metadata": {
    "scrolled": true
   },
   "outputs": [
    {
     "name": "stdout",
     "output_type": "stream",
     "text": [
      "exercise\t\tFalse\n",
      "smokes\t\tTrue\n",
      "BP\t\t{\n",
      "    \"class\" : \"Distribution\",\n",
      "    \"dtype\" : \"str\",\n",
      "    \"name\" : \"DiscreteDistribution\",\n",
      "    \"parameters\" : [\n",
      "        {\n",
      "            \"True\" : 0.9499999999999995,\n",
      "            \"False\" : 0.050000000000000426\n",
      "        }\n",
      "    ],\n",
      "    \"frozen\" : false\n",
      "}\n",
      "chol\t\t{\n",
      "    \"class\" : \"Distribution\",\n",
      "    \"dtype\" : \"str\",\n",
      "    \"name\" : \"DiscreteDistribution\",\n",
      "    \"parameters\" : [\n",
      "        {\n",
      "            \"True\" : 0.7999999999999999,\n",
      "            \"False\" : 0.20000000000000018\n",
      "        }\n",
      "    ],\n",
      "    \"frozen\" : false\n",
      "}\n",
      "attack\t\t{\n",
      "    \"class\" : \"Distribution\",\n",
      "    \"dtype\" : \"str\",\n",
      "    \"name\" : \"DiscreteDistribution\",\n",
      "    \"parameters\" : [\n",
      "        {\n",
      "            \"True\" : 0.7149999999999997,\n",
      "            \"False\" : 0.2850000000000003\n",
      "        }\n",
      "    ],\n",
      "    \"frozen\" : false\n",
      "}\n"
     ]
    }
   ],
   "source": [
    "print (\"\\n\".join( \"{}\\t\\t{}\".format( state.name, belief ) for state, belief in zip( network.states, beliefs ) ))"
   ]
  },
  {
   "cell_type": "code",
   "execution_count": null,
   "metadata": {},
   "outputs": [],
   "source": []
  }
 ],
 "metadata": {
  "kernelspec": {
   "display_name": "Python 3",
   "language": "python",
   "name": "python3"
  },
  "language_info": {
   "codemirror_mode": {
    "name": "ipython",
    "version": 3
   },
   "file_extension": ".py",
   "mimetype": "text/x-python",
   "name": "python",
   "nbconvert_exporter": "python",
   "pygments_lexer": "ipython3",
   "version": "3.7.1"
  }
 },
 "nbformat": 4,
 "nbformat_minor": 2
}
